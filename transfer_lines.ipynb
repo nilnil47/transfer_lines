{
 "cells": [
  {
   "cell_type": "code",
   "execution_count": null,
   "metadata": {},
   "outputs": [],
   "source": [
    "import numpy as np\n",
    "import matplotlib.pyplot as plt\n",
    "\n",
    "# Define the function\n",
    "def function(alpha, omega, omega_c):\n",
    "    return np.exp(alpha) - (omega**2 / omega_c**2) - 1 - np.sqrt((1 - omega**2 / omega_c**2)**2 - 1)\n",
    "\n",
    "# Define the range of omega values\n",
    "omega_values = np.linspace(0, 10, 100)\n",
    "\n",
    "# Define the values of alpha and omega_c\n",
    "alpha = 1.0\n",
    "omega_c = 2.0\n",
    "\n",
    "# Calculate the corresponding y values for each omega value\n",
    "y_values = function(alpha, omega_values, omega_c)\n",
    "\n",
    "# Plot the function\n",
    "plt.plot(omega_values, y_values)\n",
    "plt.xlabel('omega')\n",
    "plt.ylabel('e^alpha')\n",
    "plt.title('Plot of e^alpha = (omega^2/omega_c^2) - 1 - sqrt((1 - omega^2/omega_c^2)^2 - 1)')\n",
    "plt.grid(True)\n",
    "plt.show()\n"
   ]
  },
  {
   "cell_type": "code",
   "execution_count": null,
   "metadata": {},
   "outputs": [],
   "source": [
    "import numpy as np\n",
    "import holoviews as hv\n",
    "from holoviews import opts\n",
    "import pandas as pd\n",
    "import os"
   ]
  },
  {
   "cell_type": "code",
   "execution_count": null,
   "metadata": {},
   "outputs": [],
   "source": [
    "L = 100e-6\n",
    "C = 400e-12\n",
    "1 / np.sqrt(L*C)\n",
    "\n",
    "f = np.linspace(1e5, 2e6, 1000)\n",
    "# # omeags = np.logspace(0, 10, 1.5 * np.log(np.pi / (np.sqrt(L*C))), 100)\n",
    "\n",
    "\n",
    "beta_theory = 2 * np.arcsin ( np.pi * f * np.sqrt(L*C))\n",
    "plot1 = hv.Curve((f, beta_theory), 'x', 'y1', label='Plot 1')\n",
    "plot1.opts(opts.Curve(show_legend=True), opts.Layout(shared_axes=False))\n",
    "\n",
    "# # Create the second plot\n",
    "# plot2 = hv.Curve((x, y2), 'x', 'y2', label='Plot 2')\n",
    "plot1"
   ]
  },
  {
   "cell_type": "code",
   "execution_count": null,
   "metadata": {},
   "outputs": [],
   "source": [
    "# read the data\n",
    "def load_csv(path):\n",
    "    df = pd.read_csv(path, header=None, usecols=[3, 4, 10], names=['t', 'v0', 'vn'],float_precision='round_trip')\n",
    "    df = df.dropna()\n",
    "    return df\n",
    "\n",
    "df = load_csv('n1/1000000.csv')\n"
   ]
  },
  {
   "cell_type": "code",
   "execution_count": null,
   "metadata": {},
   "outputs": [],
   "source": [
    "for file in os.listdir('n1'):\n",
    "    "
   ]
  }
 ],
 "metadata": {
  "kernelspec": {
   "display_name": "Python 3",
   "language": "python",
   "name": "python3"
  },
  "language_info": {
   "codemirror_mode": {
    "name": "ipython",
    "version": 3
   },
   "file_extension": ".py",
   "mimetype": "text/x-python",
   "name": "python",
   "nbconvert_exporter": "python",
   "pygments_lexer": "ipython3",
   "version": "3.11.2"
  },
  "orig_nbformat": 4
 },
 "nbformat": 4,
 "nbformat_minor": 2
}
