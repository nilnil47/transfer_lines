{
 "cells": [
  {
   "cell_type": "code",
   "execution_count": null,
   "metadata": {},
   "outputs": [],
   "source": [
    "import pandas as pd\n",
    "import numpy as np\n",
    "import matplotlib.pyplot as plt\n",
    "import hvplot.pandas\n",
    "import plotly.express as px\n",
    "import scipy.signal as signal\n",
    "import plotly.graph_objs as go\n",
    "import plotly.figure_factory as ff\n",
    "from plotly.offline import plot, iplot, init_notebook_mode\n",
    "from plotly.subplots import make_subplots\n",
    "import sys\n",
    "import os\n",
    "\n",
    "import numpy as np\n",
    "import holoviews as hv\n",
    "from holoviews import opts\n",
    "import pandas as pd\n",
    "\n",
    "from uncertainties import ufloat\n",
    "import uncertainties\n",
    "from uncertainties.umath import * \n",
    "from uncertainties import unumpy\n",
    "\n",
    "from scipy.optimize import curve_fit\n",
    "\n",
    "\n",
    "\n",
    "def load_csv(name):\n",
    "    df = pd.read_csv(name, header=None, usecols=[3, 4, 10], names=['t', 'vd', 'vt'],float_precision='round_trip')\n",
    "    df = df.dropna()\n",
    "    return df\n",
    "\n",
    "def csv_to_dict(name):\n",
    "    files = os.listdir(name)\n",
    "    lib = {}\n",
    "    for file in files:\n",
    "        path = os.path.join(name,file)\n",
    "        file_name = os.path.basename(path)\n",
    "        true_name = os.path.splitext(file_name)[0]\n",
    "        lib[true_name] = load_csv(path)\n",
    "    return lib\n",
    "\n",
    "def nsigma(v1, e1, v2, e2):\n",
    "    return (v1 - v2) / np.sqrt(e1**2 + e2**2)\n",
    "\n",
    "# # Calculate nsigma\n",
    "# nsigma = (value - mean) / std_dev\n",
    "\n",
    "def csv_to_dict(name):\n",
    "    files = os.listdir(name)\n",
    "    lib = {}\n",
    "    for file in files:\n",
    "        path = os.path.join(name,file)\n",
    "        file_name = os.path.basename(path)\n",
    "        true_name = os.path.splitext(file_name)[0]\n",
    "        lib[true_name] = load_csv(path)\n",
    "    return lib\n"
   ]
  },
  {
   "cell_type": "code",
   "execution_count": null,
   "metadata": {},
   "outputs": [],
   "source": [
    "def load_csv(name):\n",
    "    df = pd.read_csv(name, header=None, usecols=[3, 4, 10, 16, 22], names=['t', 'n1', 'n2', 'n3', 'n4'],float_precision='round_trip')\n",
    "    df = df.dropna()\n",
    "    return df\n",
    "\n",
    "df = load_csv('gain/14.00.csv')\n",
    "\n",
    "df.hvplot.scatter(x='t')\n"
   ]
  },
  {
   "cell_type": "code",
   "execution_count": null,
   "metadata": {},
   "outputs": [],
   "source": [
    "def zoom_in(df: pd.DataFrame, frequncy: float, periods: int = 1, number_of_ponts_in_sample: int = 1e5):\n",
    "    delta_t_between_points = (df['t'].iloc[-1] - df['t'].iloc[0]) / number_of_ponts_in_sample\n",
    "    points_per_period = int(periods / (frequncy * delta_t_between_points))\n",
    "    return df[:points_per_period]\n",
    "\n",
    "df2 = zoom_in(df, 14e6)\n",
    "df2.hvplot.scatter(x='t')"
   ]
  },
  {
   "cell_type": "code",
   "execution_count": null,
   "metadata": {},
   "outputs": [],
   "source": [
    "frequncy = 14e6\n",
    "number_of_ponts_in_sample = 1e5\n",
    "delta_t_between_points = (df['t'].iloc[-1] - df['t'].iloc[0]) / number_of_ponts_in_sample\n",
    "periods = 2\n",
    "points_per_period = int(periods / (frequncy * delta_t_between_points))\n",
    "print(points_per_period)\n",
    "df[:points_per_period].hvplot.scatter(x='t')"
   ]
  }
 ],
 "metadata": {
  "kernelspec": {
   "display_name": "Python 3",
   "language": "python",
   "name": "python3"
  },
  "language_info": {
   "codemirror_mode": {
    "name": "ipython",
    "version": 3
   },
   "file_extension": ".py",
   "mimetype": "text/x-python",
   "name": "python",
   "nbconvert_exporter": "python",
   "pygments_lexer": "ipython3",
   "version": "3.11.2"
  },
  "orig_nbformat": 4
 },
 "nbformat": 4,
 "nbformat_minor": 2
}
